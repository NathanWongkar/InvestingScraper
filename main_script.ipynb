{
 "cells": [
  {
   "cell_type": "code",
   "execution_count": 77,
   "metadata": {},
   "outputs": [],
   "source": [
    "import finnhub\n",
    "import json\n",
    "from pprint import pprint\n",
    "import os\n",
    "import configs"
   ]
  },
  {
   "cell_type": "code",
   "execution_count": 78,
   "metadata": {},
   "outputs": [],
   "source": [
    "API_KEY = configs.API_KEY"
   ]
  },
  {
   "cell_type": "code",
   "execution_count": 79,
   "metadata": {},
   "outputs": [],
   "source": [
    "token = API_KEY\n",
    "finnhub_client = finnhub.Client(api_key=token)"
   ]
  },
  {
   "cell_type": "code",
   "execution_count": 80,
   "metadata": {},
   "outputs": [
    {
     "name": "stdout",
     "output_type": "stream",
     "text": [
      "['MSFT', 'ORCL', 'NOW', 'PANW', 'VMW', 'FTNT', 'CRWD', 'ZS', 'GEN', 'MCFE']\n"
     ]
    }
   ],
   "source": [
    "symbols = finnhub_client.company_peers('MSFT') # MSFT is the symbol of Microsoft, and we are trying to get their competitors\n",
    "print(symbols)"
   ]
  },
  {
   "attachments": {},
   "cell_type": "markdown",
   "metadata": {},
   "source": [
    "# Making API Call to retrieve the name and the company outstanding shares"
   ]
  },
  {
   "cell_type": "code",
   "execution_count": null,
   "metadata": {},
   "outputs": [],
   "source": [
    "# this will output a list of dictionaries with the symbol of the company and the name of the company\n",
    "company_info = []\n",
    "for company in symbols:\n",
    "    company_profile = finnhub_client.company_profile2(symbol=company)\n",
    "    financials = finnhub_client.financials_reported(symbol=company, freq='quarterly')\n",
    "    basic_financials = finnhub_client.company_basic_financials(company, 'all')\n",
    "\n",
    "    json_fin = json.dumps(financials)\n",
    "    json_fin = json.loads(json_fin)\n",
    "\n",
    "    json_bf = json.dumps(basic_financials)\n",
    "    json_bf = json.loads(json_bf)\n",
    "\n",
    "    try: \n",
    "        ticker = company_profile['ticker']\n",
    "    except:\n",
    "        ticker = None\n",
    "    try:\n",
    "        sharesOutstanding = company_profile['shareOutstanding']\n",
    "    except: \n",
    "        sharesOutstanding = None\n",
    "    try:\n",
    "        gaapNetIncome = json_fin['data'][0]['report']['ic'][6]['value']\n",
    "    except:\n",
    "        gaapNetIncome = None\n",
    "    try:\n",
    "        period = json_bf['series']['annual']['pe'][0]['period']\n",
    "    except:\n",
    "        period = None\n",
    "    try:\n",
    "        pe_ratio = json_bf['series']['annual']['pe'][0]['v']\n",
    "    except:\n",
    "        period = None\n",
    "\n",
    "    company_metric = {\"name\": ticker, \"sharesOutstanding\": (sharesOutstanding * 1000000) if sharesOutstanding is not None else None, \"gaapNetIncome\": gaapNetIncome, \"EPS\": (gaapNetIncome/sharesOutstanding) if sharesOutstanding is not None else None, \"Period of PE\": period, \"PE Ratio\": pe_ratio   }\n",
    "    company_info.append(company_metric)\n",
    "    pprint(company_metric)\n",
    "\n"
   ]
  },
  {
   "cell_type": "code",
   "execution_count": null,
   "metadata": {},
   "outputs": [],
   "source": [
    "pprint(company_info)"
   ]
  },
  {
   "cell_type": "code",
   "execution_count": null,
   "metadata": {},
   "outputs": [],
   "source": []
  }
 ],
 "metadata": {
  "kernelspec": {
   "display_name": "env",
   "language": "python",
   "name": "python3"
  },
  "language_info": {
   "codemirror_mode": {
    "name": "ipython",
    "version": 3
   },
   "file_extension": ".py",
   "mimetype": "text/x-python",
   "name": "python",
   "nbconvert_exporter": "python",
   "pygments_lexer": "ipython3",
   "version": "3.10.6"
  },
  "orig_nbformat": 4,
  "vscode": {
   "interpreter": {
    "hash": "988d5deeb0310ca74e57a1409936d29e7e7850a6dcae91274bffe3361c83d67b"
   }
  }
 },
 "nbformat": 4,
 "nbformat_minor": 2
}

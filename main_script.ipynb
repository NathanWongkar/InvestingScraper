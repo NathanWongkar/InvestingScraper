{
 "cells": [
  {
   "cell_type": "code",
   "execution_count": 1,
   "metadata": {},
   "outputs": [],
   "source": [
    "import finnhub\n",
    "from pprint import pprint"
   ]
  },
  {
   "cell_type": "code",
   "execution_count": 2,
   "metadata": {},
   "outputs": [],
   "source": [
    "token = \"cfjnpfhr01que34o2s70cfjnpfhr01que34o2s7g\"\n",
    "finnhub_client = finnhub.Client(api_key=token)"
   ]
  },
  {
   "cell_type": "code",
   "execution_count": 6,
   "metadata": {},
   "outputs": [
    {
     "name": "stdout",
     "output_type": "stream",
     "text": [
      "['MSFT', 'ORCL', 'NOW', 'PANW', 'VMW', 'FTNT', 'CRWD', 'ZS', 'GEN', 'MCFE']\n"
     ]
    }
   ],
   "source": [
    "symbols = finnhub_client.company_peers('MSFT') # MSFT is the symbol of Microsoft, and we are trying to get their competitors\n",
    "print(symbols)"
   ]
  },
  {
   "cell_type": "code",
   "execution_count": 9,
   "metadata": {},
   "outputs": [
    {
     "name": "stdout",
     "output_type": "stream",
     "text": [
      "{'name': 'MSFT', 'sharesOutstanding': 7443.8}\n",
      "{'name': 'ORCL', 'sharesOutstanding': 2696.25}\n",
      "{'name': 'NOW', 'sharesOutstanding': 203}\n",
      "{'name': 'PANW', 'sharesOutstanding': 302.357}\n",
      "{'name': 'VMW', 'sharesOutstanding': 425.426}\n",
      "{'name': 'FTNT', 'sharesOutstanding': 781.236}\n",
      "{'name': 'CRWD', 'sharesOutstanding': 234.398}\n",
      "{'name': 'ZS', 'sharesOutstanding': 144.212}\n",
      "{'name': 'GEN', 'sharesOutstanding': 639.129}\n",
      "{'name': 'MCFE', 'sharesOutstanding': 440.95}\n"
     ]
    }
   ],
   "source": [
    "sharesOutstanding = {}\n",
    "# This will print out the competitor profiles of Microsoft\n",
    "for companies in symbols:\n",
    "    company_profile = finnhub_client.company_profile2(symbol=companies)\n",
    "    sharesOutstanding = {\"name\": company_profile['ticker'], \"sharesOutstanding\": company_profile['shareOutstanding']} # This will print out the name of the company and the number of shares outstanding\n",
    "    pprint(sharesOutstanding)\n",
    "\n"
   ]
  },
  {
   "cell_type": "code",
   "execution_count": null,
   "metadata": {},
   "outputs": [],
   "source": []
  }
 ],
 "metadata": {
  "kernelspec": {
   "display_name": "env",
   "language": "python",
   "name": "python3"
  },
  "language_info": {
   "codemirror_mode": {
    "name": "ipython",
    "version": 3
   },
   "file_extension": ".py",
   "mimetype": "text/x-python",
   "name": "python",
   "nbconvert_exporter": "python",
   "pygments_lexer": "ipython3",
   "version": "3.10.6"
  },
  "orig_nbformat": 4,
  "vscode": {
   "interpreter": {
    "hash": "988d5deeb0310ca74e57a1409936d29e7e7850a6dcae91274bffe3361c83d67b"
   }
  }
 },
 "nbformat": 4,
 "nbformat_minor": 2
}
